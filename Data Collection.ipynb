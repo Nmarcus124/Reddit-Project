{
 "cells": [
  {
   "cell_type": "code",
   "execution_count": 1,
   "metadata": {},
   "outputs": [],
   "source": [
    "import requests\n",
    "import pandas as pd\n",
    "import time\n",
    "import datetime as dt"
   ]
  },
  {
   "cell_type": "code",
   "execution_count": 26,
   "metadata": {},
   "outputs": [],
   "source": [
    "# initial query to create file with df for subreddit 1: drake\n",
    "s_type = 'comment' #or 'submission'\n",
    "subreddit = 'drizzy'\n",
    "unix_time_stamp = 1626888790\n",
    "\n",
    "url = f'https://api.pushshift.io/reddit/search/{s_type}/?subreddit={subreddit}&before={unix_time_stamp}&size=100'\n",
    "res = requests.get(url)\n",
    "post_list = res.json()['data']\n",
    "full_df = pd.DataFrame(post_list)[['body','author','created_utc','subreddit']]\n",
    "full_df.to_csv('drizzy_comments.csv')"
   ]
  },
  {
   "cell_type": "code",
   "execution_count": 32,
   "metadata": {},
   "outputs": [],
   "source": [
    "#function that pulls 100 rows of subreddit data * the amount of iterations specified for either comments or submissions\n",
    "def pushshift_query(file,subreddit,s_type,iters=5):\n",
    "    for pull in range(iters):\n",
    "        full_df = pd.read_csv(file)\n",
    "        url = f'https://api.pushshift.io/reddit/search/{s_type}/?subreddit={subreddit}&before={full_df[\"created_utc\"].min()}&size=100'\n",
    "        res = requests.get(url)\n",
    "        assert res.status_code == 200\n",
    "        post_list = res.json()['data']\n",
    "        if s_type == 'submission':\n",
    "            temp_df = pd.DataFrame(post_list)[['title','author','selftext','created_utc','subreddit']]\n",
    "        elif s_type == 'comment':\n",
    "            temp_df = pd.DataFrame(post_list)[['body','author','created_utc','subreddit']]\n",
    "        full_df = pd.concat([full_df,temp_df])\n",
    "        print(full_df.shape)\n",
    "        print(full_df.nunique())\n",
    "        print('waiting until next pull')\n",
    "        time.sleep(5)\n",
    "        full_df.to_csv(file,index=False)"
   ]
  },
  {
   "cell_type": "markdown",
   "metadata": {},
   "source": [
    "#### Subreddit 1 (Drake) Data Pull"
   ]
  },
  {
   "cell_type": "code",
   "execution_count": null,
   "metadata": {},
   "outputs": [],
   "source": [
    "#pulling data for drake subreddit\n",
    "pushshift_query('drizzy_comments.csv','drizzy','comment',iters=20)"
   ]
  },
  {
   "cell_type": "markdown",
   "metadata": {},
   "source": [
    "#### Subreddit 2 (Kanye) Data Pull"
   ]
  },
  {
   "cell_type": "code",
   "execution_count": 37,
   "metadata": {},
   "outputs": [],
   "source": [
    "# initial query to create file with df for subreddit 2: kanye\n",
    "s_type = 'comment' #or 'submission'\n",
    "subreddit = 'kanye'\n",
    "unix_time_stamp = 1626888790\n",
    "\n",
    "url = f'https://api.pushshift.io/reddit/search/{s_type}/?subreddit={subreddit}&before={unix_time_stamp}&size=100'\n",
    "res = requests.get(url)\n",
    "post_list = res.json()['data']\n",
    "full_df = pd.DataFrame(post_list)[['body','author','created_utc','subreddit']]\n",
    "full_df.to_csv('kanye_comments.csv')"
   ]
  },
  {
   "cell_type": "markdown",
   "metadata": {},
   "source": [
    "#### Cleaning and Fixing Data Collection Error"
   ]
  },
  {
   "cell_type": "code",
   "execution_count": 96,
   "metadata": {},
   "outputs": [],
   "source": [
    "d = pd.read_csv('kanye_comments.csv')"
   ]
  },
  {
   "cell_type": "code",
   "execution_count": 97,
   "metadata": {},
   "outputs": [
    {
     "data": {
      "text/plain": [
       "(2001, 5)"
      ]
     },
     "execution_count": 97,
     "metadata": {},
     "output_type": "execute_result"
    }
   ],
   "source": [
    "d.shape"
   ]
  },
  {
   "cell_type": "code",
   "execution_count": 98,
   "metadata": {},
   "outputs": [
    {
     "data": {
      "text/html": [
       "<div>\n",
       "<style scoped>\n",
       "    .dataframe tbody tr th:only-of-type {\n",
       "        vertical-align: middle;\n",
       "    }\n",
       "\n",
       "    .dataframe tbody tr th {\n",
       "        vertical-align: top;\n",
       "    }\n",
       "\n",
       "    .dataframe thead th {\n",
       "        text-align: right;\n",
       "    }\n",
       "</style>\n",
       "<table border=\"1\" class=\"dataframe\">\n",
       "  <thead>\n",
       "    <tr style=\"text-align: right;\">\n",
       "      <th></th>\n",
       "      <th>Unnamed: 0</th>\n",
       "      <th>body</th>\n",
       "      <th>author</th>\n",
       "      <th>created_utc</th>\n",
       "      <th>subreddit</th>\n",
       "    </tr>\n",
       "  </thead>\n",
       "  <tbody>\n",
       "    <tr>\n",
       "      <th>1972</th>\n",
       "      <td>: Silence</td>\n",
       "      <td>compotademansana</td>\n",
       "      <td>1626740116</td>\n",
       "      <td>Kanye</td>\n",
       "      <td>NaN</td>\n",
       "    </tr>\n",
       "    <tr>\n",
       "      <th>0</th>\n",
       "      <td>0.0</td>\n",
       "      <td>1 is pretty cool but i prefer 2 it’s just so b...</td>\n",
       "      <td>Jtemelsooo</td>\n",
       "      <td>1626805100</td>\n",
       "      <td>Kanye</td>\n",
       "    </tr>\n",
       "    <tr>\n",
       "      <th>1</th>\n",
       "      <td>1.0</td>\n",
       "      <td>Yeah you definitely shouldn't 🥴</td>\n",
       "      <td>Royal_Seaworthiness3</td>\n",
       "      <td>1626805096</td>\n",
       "      <td>Kanye</td>\n",
       "    </tr>\n",
       "    <tr>\n",
       "      <th>2</th>\n",
       "      <td>2.0</td>\n",
       "      <td>Very possible</td>\n",
       "      <td>Sky_Screamer18</td>\n",
       "      <td>1626805076</td>\n",
       "      <td>Kanye</td>\n",
       "    </tr>\n",
       "    <tr>\n",
       "      <th>3</th>\n",
       "      <td>3.0</td>\n",
       "      <td>[removed]</td>\n",
       "      <td>[deleted]</td>\n",
       "      <td>1626805051</td>\n",
       "      <td>Kanye</td>\n",
       "    </tr>\n",
       "    <tr>\n",
       "      <th>...</th>\n",
       "      <td>...</td>\n",
       "      <td>...</td>\n",
       "      <td>...</td>\n",
       "      <td>...</td>\n",
       "      <td>...</td>\n",
       "    </tr>\n",
       "    <tr>\n",
       "      <th>1997</th>\n",
       "      <td>NaN</td>\n",
       "      <td>[deleted]</td>\n",
       "      <td>[deleted]</td>\n",
       "      <td>1626739512</td>\n",
       "      <td>Kanye</td>\n",
       "    </tr>\n",
       "    <tr>\n",
       "      <th>1998</th>\n",
       "      <td>NaN</td>\n",
       "      <td>[removed]</td>\n",
       "      <td>[deleted]</td>\n",
       "      <td>1626739505</td>\n",
       "      <td>Kanye</td>\n",
       "    </tr>\n",
       "    <tr>\n",
       "      <th>1999</th>\n",
       "      <td>NaN</td>\n",
       "      <td>Neither does the new one imo. Still both great...</td>\n",
       "      <td>CRFcork</td>\n",
       "      <td>1626739479</td>\n",
       "      <td>Kanye</td>\n",
       "    </tr>\n",
       "    <tr>\n",
       "      <th>2000</th>\n",
       "      <td>NaN</td>\n",
       "      <td>Great art</td>\n",
       "      <td>Guccikilla1</td>\n",
       "      <td>1626739477</td>\n",
       "      <td>Kanye</td>\n",
       "    </tr>\n",
       "    <tr>\n",
       "      <th>1971</th>\n",
       "      <td>NaN</td>\n",
       "      <td>Genre</td>\n",
       "      <td>NaN</td>\n",
       "      <td>NaN</td>\n",
       "      <td>NaN</td>\n",
       "    </tr>\n",
       "  </tbody>\n",
       "</table>\n",
       "<p>2001 rows × 5 columns</p>\n",
       "</div>"
      ],
      "text/plain": [
       "     Unnamed: 0                                               body  \\\n",
       "1972  : Silence                                   compotademansana   \n",
       "0           0.0  1 is pretty cool but i prefer 2 it’s just so b...   \n",
       "1           1.0                    Yeah you definitely shouldn't 🥴   \n",
       "2           2.0                                      Very possible   \n",
       "3           3.0                                          [removed]   \n",
       "...         ...                                                ...   \n",
       "1997        NaN                                          [deleted]   \n",
       "1998        NaN                                          [removed]   \n",
       "1999        NaN  Neither does the new one imo. Still both great...   \n",
       "2000        NaN                                          Great art   \n",
       "1971        NaN                                              Genre   \n",
       "\n",
       "                    author created_utc subreddit  \n",
       "1972            1626740116       Kanye       NaN  \n",
       "0               Jtemelsooo  1626805100     Kanye  \n",
       "1     Royal_Seaworthiness3  1626805096     Kanye  \n",
       "2           Sky_Screamer18  1626805076     Kanye  \n",
       "3                [deleted]  1626805051     Kanye  \n",
       "...                    ...         ...       ...  \n",
       "1997             [deleted]  1626739512     Kanye  \n",
       "1998             [deleted]  1626739505     Kanye  \n",
       "1999               CRFcork  1626739479     Kanye  \n",
       "2000           Guccikilla1  1626739477     Kanye  \n",
       "1971                   NaN         NaN       NaN  \n",
       "\n",
       "[2001 rows x 5 columns]"
      ]
     },
     "execution_count": 98,
     "metadata": {},
     "output_type": "execute_result"
    }
   ],
   "source": [
    "#checking to see error with created_utc values\n",
    "d.sort_values('created_utc',ascending=False)"
   ]
  },
  {
   "cell_type": "code",
   "execution_count": 99,
   "metadata": {},
   "outputs": [
    {
     "data": {
      "text/plain": [
       "Unnamed: 0            : Silence\n",
       "body           compotademansana\n",
       "author               1626740116\n",
       "created_utc               Kanye\n",
       "subreddit                   NaN\n",
       "Name: 1972, dtype: object"
      ]
     },
     "execution_count": 99,
     "metadata": {},
     "output_type": "execute_result"
    }
   ],
   "source": [
    "#found incorrectly inputted data for this observation\n",
    "d.iloc[1972]"
   ]
  },
  {
   "cell_type": "code",
   "execution_count": 100,
   "metadata": {},
   "outputs": [],
   "source": [
    "#fixing data input error\n",
    "import numpy as np\n",
    "d.iloc[1972]['Unnamed: 0'] = np.nan\n",
    "d.iloc[1972]['body'] = ': Silence'\n",
    "d.iloc[1972]['author'] = 'compotademansana'\n",
    "d.iloc[1972]['created_utc'] = '1626740116'\n",
    "d.iloc[1972]['subreddit'] = 'Kanye'"
   ]
  },
  {
   "cell_type": "code",
   "execution_count": 101,
   "metadata": {},
   "outputs": [],
   "source": [
    "#deleting bad observation\n",
    "d.drop(labels=1971,inplace=True)"
   ]
  },
  {
   "cell_type": "code",
   "execution_count": 102,
   "metadata": {},
   "outputs": [
    {
     "data": {
      "text/plain": [
       "(2000, 5)"
      ]
     },
     "execution_count": 102,
     "metadata": {},
     "output_type": "execute_result"
    }
   ],
   "source": [
    "d.shape"
   ]
  },
  {
   "cell_type": "code",
   "execution_count": 103,
   "metadata": {},
   "outputs": [],
   "source": [
    "#d.to_csv('kanye_comments.csv')"
   ]
  },
  {
   "cell_type": "markdown",
   "metadata": {},
   "source": [
    "#### Query to pull r/kanye data"
   ]
  },
  {
   "cell_type": "code",
   "execution_count": null,
   "metadata": {
    "scrolled": true
   },
   "outputs": [],
   "source": [
    "#pulling data for kanye subreddit\n",
    "pushshift_query('kanye_comments.csv','kanye','comment',iters=10)"
   ]
  }
 ],
 "metadata": {
  "kernelspec": {
   "display_name": "Python 3",
   "language": "python",
   "name": "python3"
  },
  "language_info": {
   "codemirror_mode": {
    "name": "ipython",
    "version": 3
   },
   "file_extension": ".py",
   "mimetype": "text/x-python",
   "name": "python",
   "nbconvert_exporter": "python",
   "pygments_lexer": "ipython3",
   "version": "3.7.3"
  }
 },
 "nbformat": 4,
 "nbformat_minor": 2
}
