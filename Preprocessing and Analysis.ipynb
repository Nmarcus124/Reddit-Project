{
 "cells": [
  {
   "cell_type": "markdown",
   "metadata": {},
   "source": [
    "# Project 3: r/drizzy and r/kanye subreddit Classification"
   ]
  },
  {
   "cell_type": "markdown",
   "metadata": {},
   "source": [
    "In this project, I will be utilizing NLP preprocessing techniques in conjunction with classification metrics to classify subreddit comments from the r/drizzy and r/kanye subreddits."
   ]
  },
  {
   "cell_type": "markdown",
   "metadata": {},
   "source": [
    "## Sections\n",
    "1. [EDA](#EDA)\n",
    "2. [Preprocessing](#Preprocessing)\n",
    "3. [Modeling](#Modeling)"
   ]
  },
  {
   "cell_type": "markdown",
   "metadata": {},
   "source": [
    "## Imports"
   ]
  },
  {
   "cell_type": "code",
   "execution_count": 1,
   "metadata": {},
   "outputs": [],
   "source": [
    "import pandas as pd\n",
    "import numpy as np\n",
    "import matplotlib.pyplot as plt\n",
    "import seaborn as sns\n",
    "from sklearn.model_selection import train_test_split, GridSearchCV, RandomizedSearchCV, cross_val_score\n",
    "from sklearn.preprocessing import StandardScaler\n",
    "from sklearn.pipeline import Pipeline\n",
    "from sklearn.svm import SVC\n",
    "import nltk\n",
    "from nltk.stem import WordNetLemmatizer\n",
    "from nltk.tokenize import sent_tokenize, word_tokenize, RegexpTokenizer\n",
    "from nltk.stem.porter import PorterStemmer\n",
    "from nltk.corpus import stopwords\n",
    "from nltk.sentiment.vader import SentimentIntensityAnalyzer\n",
    "from sklearn.feature_extraction.text import CountVectorizer, TfidfVectorizer\n",
    "from sklearn.naive_bayes import MultinomialNB, BernoulliNB\n",
    "from sklearn.metrics import confusion_matrix, ConfusionMatrixDisplay\n",
    "from sklearn.ensemble import RandomForestClassifier, AdaBoostClassifier"
   ]
  },
  {
   "cell_type": "markdown",
   "metadata": {},
   "source": [
    "## EDA"
   ]
  },
  {
   "cell_type": "code",
   "execution_count": 2,
   "metadata": {},
   "outputs": [],
   "source": [
    "drizzy = pd.read_csv('drizzy_comments.csv')\n",
    "kanye = pd.read_csv('kanye_comments.csv')"
   ]
  },
  {
   "cell_type": "code",
   "execution_count": 3,
   "metadata": {},
   "outputs": [
    {
     "name": "stdout",
     "output_type": "stream",
     "text": [
      "(21200, 5)\n"
     ]
    },
    {
     "data": {
      "text/html": [
       "<div>\n",
       "<style scoped>\n",
       "    .dataframe tbody tr th:only-of-type {\n",
       "        vertical-align: middle;\n",
       "    }\n",
       "\n",
       "    .dataframe tbody tr th {\n",
       "        vertical-align: top;\n",
       "    }\n",
       "\n",
       "    .dataframe thead th {\n",
       "        text-align: right;\n",
       "    }\n",
       "</style>\n",
       "<table border=\"1\" class=\"dataframe\">\n",
       "  <thead>\n",
       "    <tr style=\"text-align: right;\">\n",
       "      <th></th>\n",
       "      <th>Unnamed: 0</th>\n",
       "      <th>body</th>\n",
       "      <th>author</th>\n",
       "      <th>created_utc</th>\n",
       "      <th>subreddit</th>\n",
       "    </tr>\n",
       "  </thead>\n",
       "  <tbody>\n",
       "    <tr>\n",
       "      <th>0</th>\n",
       "      <td>0.0</td>\n",
       "      <td>Lil Baby LOVES this line lmao</td>\n",
       "      <td>rmoler65</td>\n",
       "      <td>1626734500</td>\n",
       "      <td>Drizzy</td>\n",
       "    </tr>\n",
       "    <tr>\n",
       "      <th>1</th>\n",
       "      <td>1.0</td>\n",
       "      <td>I'm not as huge a fan of KSG as some of you, b...</td>\n",
       "      <td>WhenItsHalfPastFive</td>\n",
       "      <td>1626734296</td>\n",
       "      <td>Drizzy</td>\n",
       "    </tr>\n",
       "    <tr>\n",
       "      <th>2</th>\n",
       "      <td>2.0</td>\n",
       "      <td>Important to note also drizz and Justin were n...</td>\n",
       "      <td>therorax12</td>\n",
       "      <td>1626734151</td>\n",
       "      <td>Drizzy</td>\n",
       "    </tr>\n",
       "    <tr>\n",
       "      <th>3</th>\n",
       "      <td>3.0</td>\n",
       "      <td>Donde Don Ye</td>\n",
       "      <td>roywoodsir</td>\n",
       "      <td>1626734135</td>\n",
       "      <td>Drizzy</td>\n",
       "    </tr>\n",
       "    <tr>\n",
       "      <th>4</th>\n",
       "      <td>4.0</td>\n",
       "      <td>Maybe ye will have a song with drake titled re...</td>\n",
       "      <td>roywoodsir</td>\n",
       "      <td>1626734112</td>\n",
       "      <td>Drizzy</td>\n",
       "    </tr>\n",
       "  </tbody>\n",
       "</table>\n",
       "</div>"
      ],
      "text/plain": [
       "   Unnamed: 0                                               body  \\\n",
       "0         0.0                      Lil Baby LOVES this line lmao   \n",
       "1         1.0  I'm not as huge a fan of KSG as some of you, b...   \n",
       "2         2.0  Important to note also drizz and Justin were n...   \n",
       "3         3.0                                       Donde Don Ye   \n",
       "4         4.0  Maybe ye will have a song with drake titled re...   \n",
       "\n",
       "                author  created_utc subreddit  \n",
       "0             rmoler65   1626734500    Drizzy  \n",
       "1  WhenItsHalfPastFive   1626734296    Drizzy  \n",
       "2           therorax12   1626734151    Drizzy  \n",
       "3           roywoodsir   1626734135    Drizzy  \n",
       "4           roywoodsir   1626734112    Drizzy  "
      ]
     },
     "execution_count": 3,
     "metadata": {},
     "output_type": "execute_result"
    }
   ],
   "source": [
    "print(drizzy.shape)\n",
    "drizzy.head()"
   ]
  },
  {
   "cell_type": "code",
   "execution_count": 4,
   "metadata": {},
   "outputs": [
    {
     "name": "stdout",
     "output_type": "stream",
     "text": [
      "(22300, 6)\n"
     ]
    },
    {
     "data": {
      "text/html": [
       "<div>\n",
       "<style scoped>\n",
       "    .dataframe tbody tr th:only-of-type {\n",
       "        vertical-align: middle;\n",
       "    }\n",
       "\n",
       "    .dataframe tbody tr th {\n",
       "        vertical-align: top;\n",
       "    }\n",
       "\n",
       "    .dataframe thead th {\n",
       "        text-align: right;\n",
       "    }\n",
       "</style>\n",
       "<table border=\"1\" class=\"dataframe\">\n",
       "  <thead>\n",
       "    <tr style=\"text-align: right;\">\n",
       "      <th></th>\n",
       "      <th>Unnamed: 0</th>\n",
       "      <th>Unnamed: 0.1</th>\n",
       "      <th>body</th>\n",
       "      <th>author</th>\n",
       "      <th>created_utc</th>\n",
       "      <th>subreddit</th>\n",
       "    </tr>\n",
       "  </thead>\n",
       "  <tbody>\n",
       "    <tr>\n",
       "      <th>0</th>\n",
       "      <td>0.0</td>\n",
       "      <td>0.0</td>\n",
       "      <td>1 is pretty cool but i prefer 2 it’s just so b...</td>\n",
       "      <td>Jtemelsooo</td>\n",
       "      <td>1626805100</td>\n",
       "      <td>Kanye</td>\n",
       "    </tr>\n",
       "    <tr>\n",
       "      <th>1</th>\n",
       "      <td>1.0</td>\n",
       "      <td>1.0</td>\n",
       "      <td>Yeah you definitely shouldn't 🥴</td>\n",
       "      <td>Royal_Seaworthiness3</td>\n",
       "      <td>1626805096</td>\n",
       "      <td>Kanye</td>\n",
       "    </tr>\n",
       "    <tr>\n",
       "      <th>2</th>\n",
       "      <td>2.0</td>\n",
       "      <td>2.0</td>\n",
       "      <td>Very possible</td>\n",
       "      <td>Sky_Screamer18</td>\n",
       "      <td>1626805076</td>\n",
       "      <td>Kanye</td>\n",
       "    </tr>\n",
       "    <tr>\n",
       "      <th>3</th>\n",
       "      <td>3.0</td>\n",
       "      <td>3.0</td>\n",
       "      <td>[removed]</td>\n",
       "      <td>[deleted]</td>\n",
       "      <td>1626805051</td>\n",
       "      <td>Kanye</td>\n",
       "    </tr>\n",
       "    <tr>\n",
       "      <th>4</th>\n",
       "      <td>4.0</td>\n",
       "      <td>4.0</td>\n",
       "      <td>Yeah u getting blocked lmao</td>\n",
       "      <td>Plainejanejohnnydang</td>\n",
       "      <td>1626805045</td>\n",
       "      <td>Kanye</td>\n",
       "    </tr>\n",
       "  </tbody>\n",
       "</table>\n",
       "</div>"
      ],
      "text/plain": [
       "   Unnamed: 0  Unnamed: 0.1  \\\n",
       "0         0.0           0.0   \n",
       "1         1.0           1.0   \n",
       "2         2.0           2.0   \n",
       "3         3.0           3.0   \n",
       "4         4.0           4.0   \n",
       "\n",
       "                                                body                author  \\\n",
       "0  1 is pretty cool but i prefer 2 it’s just so b...            Jtemelsooo   \n",
       "1                    Yeah you definitely shouldn't 🥴  Royal_Seaworthiness3   \n",
       "2                                      Very possible        Sky_Screamer18   \n",
       "3                                          [removed]             [deleted]   \n",
       "4                        Yeah u getting blocked lmao  Plainejanejohnnydang   \n",
       "\n",
       "   created_utc subreddit  \n",
       "0   1626805100     Kanye  \n",
       "1   1626805096     Kanye  \n",
       "2   1626805076     Kanye  \n",
       "3   1626805051     Kanye  \n",
       "4   1626805045     Kanye  "
      ]
     },
     "execution_count": 4,
     "metadata": {},
     "output_type": "execute_result"
    }
   ],
   "source": [
    "print(kanye.shape)\n",
    "kanye.head()"
   ]
  },
  {
   "cell_type": "code",
   "execution_count": 5,
   "metadata": {},
   "outputs": [],
   "source": [
    "drizzy.drop(columns=['Unnamed: 0'],inplace=True)\n",
    "kanye.drop(columns=['Unnamed: 0', 'Unnamed: 0.1'],inplace=True)"
   ]
  },
  {
   "cell_type": "code",
   "execution_count": 6,
   "metadata": {},
   "outputs": [
    {
     "name": "stdout",
     "output_type": "stream",
     "text": [
      "<class 'pandas.core.frame.DataFrame'>\n",
      "RangeIndex: 21200 entries, 0 to 21199\n",
      "Data columns (total 4 columns):\n",
      " #   Column       Non-Null Count  Dtype \n",
      "---  ------       --------------  ----- \n",
      " 0   body         21200 non-null  object\n",
      " 1   author       21200 non-null  object\n",
      " 2   created_utc  21200 non-null  int64 \n",
      " 3   subreddit    21200 non-null  object\n",
      "dtypes: int64(1), object(3)\n",
      "memory usage: 662.6+ KB\n"
     ]
    }
   ],
   "source": [
    "drizzy.info()"
   ]
  },
  {
   "cell_type": "code",
   "execution_count": 7,
   "metadata": {},
   "outputs": [
    {
     "name": "stdout",
     "output_type": "stream",
     "text": [
      "<class 'pandas.core.frame.DataFrame'>\n",
      "RangeIndex: 22300 entries, 0 to 22299\n",
      "Data columns (total 4 columns):\n",
      " #   Column       Non-Null Count  Dtype \n",
      "---  ------       --------------  ----- \n",
      " 0   body         22300 non-null  object\n",
      " 1   author       22300 non-null  object\n",
      " 2   created_utc  22300 non-null  int64 \n",
      " 3   subreddit    22300 non-null  object\n",
      "dtypes: int64(1), object(3)\n",
      "memory usage: 697.0+ KB\n"
     ]
    }
   ],
   "source": [
    "kanye.info()"
   ]
  },
  {
   "cell_type": "code",
   "execution_count": 8,
   "metadata": {},
   "outputs": [],
   "source": [
    "df = pd.concat([drizzy,kanye])"
   ]
  },
  {
   "cell_type": "code",
   "execution_count": 9,
   "metadata": {},
   "outputs": [
    {
     "data": {
      "text/html": [
       "<div>\n",
       "<style scoped>\n",
       "    .dataframe tbody tr th:only-of-type {\n",
       "        vertical-align: middle;\n",
       "    }\n",
       "\n",
       "    .dataframe tbody tr th {\n",
       "        vertical-align: top;\n",
       "    }\n",
       "\n",
       "    .dataframe thead th {\n",
       "        text-align: right;\n",
       "    }\n",
       "</style>\n",
       "<table border=\"1\" class=\"dataframe\">\n",
       "  <thead>\n",
       "    <tr style=\"text-align: right;\">\n",
       "      <th></th>\n",
       "      <th>body</th>\n",
       "      <th>author</th>\n",
       "      <th>created_utc</th>\n",
       "      <th>subreddit</th>\n",
       "    </tr>\n",
       "  </thead>\n",
       "  <tbody>\n",
       "    <tr>\n",
       "      <th>0</th>\n",
       "      <td>Lil Baby LOVES this line lmao</td>\n",
       "      <td>rmoler65</td>\n",
       "      <td>1626734500</td>\n",
       "      <td>Drizzy</td>\n",
       "    </tr>\n",
       "    <tr>\n",
       "      <th>1</th>\n",
       "      <td>I'm not as huge a fan of KSG as some of you, b...</td>\n",
       "      <td>WhenItsHalfPastFive</td>\n",
       "      <td>1626734296</td>\n",
       "      <td>Drizzy</td>\n",
       "    </tr>\n",
       "    <tr>\n",
       "      <th>2</th>\n",
       "      <td>Important to note also drizz and Justin were n...</td>\n",
       "      <td>therorax12</td>\n",
       "      <td>1626734151</td>\n",
       "      <td>Drizzy</td>\n",
       "    </tr>\n",
       "    <tr>\n",
       "      <th>3</th>\n",
       "      <td>Donde Don Ye</td>\n",
       "      <td>roywoodsir</td>\n",
       "      <td>1626734135</td>\n",
       "      <td>Drizzy</td>\n",
       "    </tr>\n",
       "    <tr>\n",
       "      <th>4</th>\n",
       "      <td>Maybe ye will have a song with drake titled re...</td>\n",
       "      <td>roywoodsir</td>\n",
       "      <td>1626734112</td>\n",
       "      <td>Drizzy</td>\n",
       "    </tr>\n",
       "  </tbody>\n",
       "</table>\n",
       "</div>"
      ],
      "text/plain": [
       "                                                body               author  \\\n",
       "0                      Lil Baby LOVES this line lmao             rmoler65   \n",
       "1  I'm not as huge a fan of KSG as some of you, b...  WhenItsHalfPastFive   \n",
       "2  Important to note also drizz and Justin were n...           therorax12   \n",
       "3                                       Donde Don Ye           roywoodsir   \n",
       "4  Maybe ye will have a song with drake titled re...           roywoodsir   \n",
       "\n",
       "   created_utc subreddit  \n",
       "0   1626734500    Drizzy  \n",
       "1   1626734296    Drizzy  \n",
       "2   1626734151    Drizzy  \n",
       "3   1626734135    Drizzy  \n",
       "4   1626734112    Drizzy  "
      ]
     },
     "execution_count": 9,
     "metadata": {},
     "output_type": "execute_result"
    }
   ],
   "source": [
    "df.head()"
   ]
  },
  {
   "cell_type": "code",
   "execution_count": 10,
   "metadata": {},
   "outputs": [
    {
     "data": {
      "text/plain": [
       "(43500, 4)"
      ]
     },
     "execution_count": 10,
     "metadata": {},
     "output_type": "execute_result"
    }
   ],
   "source": [
    "df.shape"
   ]
  },
  {
   "cell_type": "code",
   "execution_count": 11,
   "metadata": {},
   "outputs": [
    {
     "data": {
      "text/plain": [
       "[deleted]                                                                                                                                                                                                                                                                                                                                                                                                                                                                                                                                                                                                           1457\n",
       "[removed]                                                                                                                                                                                                                                                                                                                                                                                                                                                                                                                                                                                                            670\n",
       "Yes                                                                                                                                                                                                                                                                                                                                                                                                                                                                                                                                                                                                                   60\n",
       "No                                                                                                                                                                                                                                                                                                                                                                                                                                                                                                                                                                                                                    53\n",
       "u/savevideo                                                                                                                                                                                                                                                                                                                                                                                                                                                                                                                                                                                                           52\n",
       "                                                                                                                                                                                                                                                                                                                                                                                                                                                                                                                                                                                                                    ... \n",
       "Wait people actually like drake 😳                                                                                                                                                                                                                                                                                                                                                                                                                                                                                                                                                                                      1\n",
       "that’s a mountain                                                                                                                                                                                                                                                                                                                                                                                                                                                                                                                                                                                                      1\n",
       "SORRY BRO, you wanna message the moderators and let em know too. \\n\\nWad-else !                                                                                                                                                                                                                                                                                                                                                                                                                                                                                                                                        1\n",
       "Views because he fully dove into different genres instead of taking different aspects from genres he likes. On Take Care he had dancehall influence on the song Take Care but on Views he actually jumped on multiple beats that were closer to that culture. \\n\\nHe also had songs where he jumped on southern and midwest beats of that time as well when he usually preferred east coast stuff when he wanted to flex his rapping prior to 2014. More Life is definitely his most “out there” work tho as far as experimentation goes.                                                                              1\n",
       "I have no problem with this take, however it does seem very hypocritical to say that you ‘don’t respect people that shit on people on conditions they have no control over’ but yet Drake has done this exact thing and you still respect him. So you can overlook it in some instances where the person has a better discography in your opinion?\\n\\nAlso, like you I am a fan of both Pusha and Drake. Both incredible artists who have affected the culture in huge ways. As I said, I agree with your take here, but I also find it hypocritical based on your earlier comment.\\n\\nAnyways, have a good day!       1\n",
       "Name: body, Length: 38804, dtype: int64"
      ]
     },
     "execution_count": 11,
     "metadata": {},
     "output_type": "execute_result"
    }
   ],
   "source": [
    "df['body'].value_counts()"
   ]
  },
  {
   "cell_type": "code",
   "execution_count": 12,
   "metadata": {},
   "outputs": [],
   "source": [
    "df = df[(df['body']!='[deleted]')&(df['body']!='[removed]')&(df['body']!='Yes')&(df['body']!='No')]"
   ]
  },
  {
   "cell_type": "markdown",
   "metadata": {},
   "source": [
    "## Preprocessing\n",
    "[Back to top](#Sections)"
   ]
  },
  {
   "cell_type": "code",
   "execution_count": 13,
   "metadata": {},
   "outputs": [],
   "source": [
    "#using regex tokenizer to create word tokens in each reddit comment\n",
    "def tokens(body):\n",
    "    tokenizer = RegexpTokenizer(\"\\w+\")\n",
    "    return tokenizer.tokenize(body.lower())"
   ]
  },
  {
   "cell_type": "code",
   "execution_count": 14,
   "metadata": {},
   "outputs": [],
   "source": [
    "df['tokens'] = df['body'].apply(tokens)"
   ]
  },
  {
   "cell_type": "code",
   "execution_count": 15,
   "metadata": {},
   "outputs": [
    {
     "data": {
      "text/html": [
       "<div>\n",
       "<style scoped>\n",
       "    .dataframe tbody tr th:only-of-type {\n",
       "        vertical-align: middle;\n",
       "    }\n",
       "\n",
       "    .dataframe tbody tr th {\n",
       "        vertical-align: top;\n",
       "    }\n",
       "\n",
       "    .dataframe thead th {\n",
       "        text-align: right;\n",
       "    }\n",
       "</style>\n",
       "<table border=\"1\" class=\"dataframe\">\n",
       "  <thead>\n",
       "    <tr style=\"text-align: right;\">\n",
       "      <th></th>\n",
       "      <th>body</th>\n",
       "      <th>author</th>\n",
       "      <th>created_utc</th>\n",
       "      <th>subreddit</th>\n",
       "      <th>tokens</th>\n",
       "    </tr>\n",
       "  </thead>\n",
       "  <tbody>\n",
       "    <tr>\n",
       "      <th>0</th>\n",
       "      <td>Lil Baby LOVES this line lmao</td>\n",
       "      <td>rmoler65</td>\n",
       "      <td>1626734500</td>\n",
       "      <td>Drizzy</td>\n",
       "      <td>[lil, baby, loves, this, line, lmao]</td>\n",
       "    </tr>\n",
       "    <tr>\n",
       "      <th>1</th>\n",
       "      <td>I'm not as huge a fan of KSG as some of you, b...</td>\n",
       "      <td>WhenItsHalfPastFive</td>\n",
       "      <td>1626734296</td>\n",
       "      <td>Drizzy</td>\n",
       "      <td>[i, m, not, as, huge, a, fan, of, ksg, as, som...</td>\n",
       "    </tr>\n",
       "    <tr>\n",
       "      <th>2</th>\n",
       "      <td>Important to note also drizz and Justin were n...</td>\n",
       "      <td>therorax12</td>\n",
       "      <td>1626734151</td>\n",
       "      <td>Drizzy</td>\n",
       "      <td>[important, to, note, also, drizz, and, justin...</td>\n",
       "    </tr>\n",
       "    <tr>\n",
       "      <th>3</th>\n",
       "      <td>Donde Don Ye</td>\n",
       "      <td>roywoodsir</td>\n",
       "      <td>1626734135</td>\n",
       "      <td>Drizzy</td>\n",
       "      <td>[donde, don, ye]</td>\n",
       "    </tr>\n",
       "    <tr>\n",
       "      <th>4</th>\n",
       "      <td>Maybe ye will have a song with drake titled re...</td>\n",
       "      <td>roywoodsir</td>\n",
       "      <td>1626734112</td>\n",
       "      <td>Drizzy</td>\n",
       "      <td>[maybe, ye, will, have, a, song, with, drake, ...</td>\n",
       "    </tr>\n",
       "  </tbody>\n",
       "</table>\n",
       "</div>"
      ],
      "text/plain": [
       "                                                body               author  \\\n",
       "0                      Lil Baby LOVES this line lmao             rmoler65   \n",
       "1  I'm not as huge a fan of KSG as some of you, b...  WhenItsHalfPastFive   \n",
       "2  Important to note also drizz and Justin were n...           therorax12   \n",
       "3                                       Donde Don Ye           roywoodsir   \n",
       "4  Maybe ye will have a song with drake titled re...           roywoodsir   \n",
       "\n",
       "   created_utc subreddit                                             tokens  \n",
       "0   1626734500    Drizzy               [lil, baby, loves, this, line, lmao]  \n",
       "1   1626734296    Drizzy  [i, m, not, as, huge, a, fan, of, ksg, as, som...  \n",
       "2   1626734151    Drizzy  [important, to, note, also, drizz, and, justin...  \n",
       "3   1626734135    Drizzy                                   [donde, don, ye]  \n",
       "4   1626734112    Drizzy  [maybe, ye, will, have, a, song, with, drake, ...  "
      ]
     },
     "execution_count": 15,
     "metadata": {},
     "output_type": "execute_result"
    }
   ],
   "source": [
    "df.head()"
   ]
  },
  {
   "cell_type": "code",
   "execution_count": 16,
   "metadata": {},
   "outputs": [],
   "source": [
    "#lemmatizing the tokens\n",
    "def lemmas(tokens):\n",
    "    lemmatizer = WordNetLemmatizer()\n",
    "    lemmas = [lemmatizer.lemmatize(token) for token in tokens]\n",
    "    return ', '.join(lemmas)"
   ]
  },
  {
   "cell_type": "code",
   "execution_count": 17,
   "metadata": {},
   "outputs": [],
   "source": [
    "df['lemmas'] = df['tokens'].apply(lemmas)"
   ]
  },
  {
   "cell_type": "code",
   "execution_count": 18,
   "metadata": {},
   "outputs": [
    {
     "data": {
      "text/html": [
       "<div>\n",
       "<style scoped>\n",
       "    .dataframe tbody tr th:only-of-type {\n",
       "        vertical-align: middle;\n",
       "    }\n",
       "\n",
       "    .dataframe tbody tr th {\n",
       "        vertical-align: top;\n",
       "    }\n",
       "\n",
       "    .dataframe thead th {\n",
       "        text-align: right;\n",
       "    }\n",
       "</style>\n",
       "<table border=\"1\" class=\"dataframe\">\n",
       "  <thead>\n",
       "    <tr style=\"text-align: right;\">\n",
       "      <th></th>\n",
       "      <th>body</th>\n",
       "      <th>author</th>\n",
       "      <th>created_utc</th>\n",
       "      <th>subreddit</th>\n",
       "      <th>tokens</th>\n",
       "      <th>lemmas</th>\n",
       "    </tr>\n",
       "  </thead>\n",
       "  <tbody>\n",
       "    <tr>\n",
       "      <th>0</th>\n",
       "      <td>Lil Baby LOVES this line lmao</td>\n",
       "      <td>rmoler65</td>\n",
       "      <td>1626734500</td>\n",
       "      <td>Drizzy</td>\n",
       "      <td>[lil, baby, loves, this, line, lmao]</td>\n",
       "      <td>lil, baby, love, this, line, lmao</td>\n",
       "    </tr>\n",
       "    <tr>\n",
       "      <th>1</th>\n",
       "      <td>I'm not as huge a fan of KSG as some of you, b...</td>\n",
       "      <td>WhenItsHalfPastFive</td>\n",
       "      <td>1626734296</td>\n",
       "      <td>Drizzy</td>\n",
       "      <td>[i, m, not, as, huge, a, fan, of, ksg, as, som...</td>\n",
       "      <td>i, m, not, a, huge, a, fan, of, ksg, a, some, ...</td>\n",
       "    </tr>\n",
       "    <tr>\n",
       "      <th>2</th>\n",
       "      <td>Important to note also drizz and Justin were n...</td>\n",
       "      <td>therorax12</td>\n",
       "      <td>1626734151</td>\n",
       "      <td>Drizzy</td>\n",
       "      <td>[important, to, note, also, drizz, and, justin...</td>\n",
       "      <td>important, to, note, also, drizz, and, justin,...</td>\n",
       "    </tr>\n",
       "    <tr>\n",
       "      <th>3</th>\n",
       "      <td>Donde Don Ye</td>\n",
       "      <td>roywoodsir</td>\n",
       "      <td>1626734135</td>\n",
       "      <td>Drizzy</td>\n",
       "      <td>[donde, don, ye]</td>\n",
       "      <td>donde, don, ye</td>\n",
       "    </tr>\n",
       "    <tr>\n",
       "      <th>4</th>\n",
       "      <td>Maybe ye will have a song with drake titled re...</td>\n",
       "      <td>roywoodsir</td>\n",
       "      <td>1626734112</td>\n",
       "      <td>Drizzy</td>\n",
       "      <td>[maybe, ye, will, have, a, song, with, drake, ...</td>\n",
       "      <td>maybe, ye, will, have, a, song, with, drake, t...</td>\n",
       "    </tr>\n",
       "  </tbody>\n",
       "</table>\n",
       "</div>"
      ],
      "text/plain": [
       "                                                body               author  \\\n",
       "0                      Lil Baby LOVES this line lmao             rmoler65   \n",
       "1  I'm not as huge a fan of KSG as some of you, b...  WhenItsHalfPastFive   \n",
       "2  Important to note also drizz and Justin were n...           therorax12   \n",
       "3                                       Donde Don Ye           roywoodsir   \n",
       "4  Maybe ye will have a song with drake titled re...           roywoodsir   \n",
       "\n",
       "   created_utc subreddit                                             tokens  \\\n",
       "0   1626734500    Drizzy               [lil, baby, loves, this, line, lmao]   \n",
       "1   1626734296    Drizzy  [i, m, not, as, huge, a, fan, of, ksg, as, som...   \n",
       "2   1626734151    Drizzy  [important, to, note, also, drizz, and, justin...   \n",
       "3   1626734135    Drizzy                                   [donde, don, ye]   \n",
       "4   1626734112    Drizzy  [maybe, ye, will, have, a, song, with, drake, ...   \n",
       "\n",
       "                                              lemmas  \n",
       "0                  lil, baby, love, this, line, lmao  \n",
       "1  i, m, not, a, huge, a, fan, of, ksg, a, some, ...  \n",
       "2  important, to, note, also, drizz, and, justin,...  \n",
       "3                                     donde, don, ye  \n",
       "4  maybe, ye, will, have, a, song, with, drake, t...  "
      ]
     },
     "execution_count": 18,
     "metadata": {},
     "output_type": "execute_result"
    }
   ],
   "source": [
    "df.head()"
   ]
  },
  {
   "cell_type": "code",
   "execution_count": 19,
   "metadata": {},
   "outputs": [
    {
     "data": {
      "text/plain": [
       "                503\n",
       "lmao             65\n",
       "u, savevideo     59\n",
       "fact             49\n",
       "w                45\n",
       "nah              43\n",
       "yes              43\n",
       "what             40\n",
       "no               39\n",
       "thank, you       39\n",
       "Name: lemmas, dtype: int64"
      ]
     },
     "execution_count": 19,
     "metadata": {},
     "output_type": "execute_result"
    }
   ],
   "source": [
    "df['lemmas'].value_counts()[:10]"
   ]
  },
  {
   "cell_type": "code",
   "execution_count": 20,
   "metadata": {},
   "outputs": [
    {
     "data": {
      "text/html": [
       "<div>\n",
       "<style scoped>\n",
       "    .dataframe tbody tr th:only-of-type {\n",
       "        vertical-align: middle;\n",
       "    }\n",
       "\n",
       "    .dataframe tbody tr th {\n",
       "        vertical-align: top;\n",
       "    }\n",
       "\n",
       "    .dataframe thead th {\n",
       "        text-align: right;\n",
       "    }\n",
       "</style>\n",
       "<table border=\"1\" class=\"dataframe\">\n",
       "  <thead>\n",
       "    <tr style=\"text-align: right;\">\n",
       "      <th></th>\n",
       "      <th>body</th>\n",
       "      <th>author</th>\n",
       "      <th>created_utc</th>\n",
       "      <th>subreddit</th>\n",
       "      <th>tokens</th>\n",
       "      <th>lemmas</th>\n",
       "    </tr>\n",
       "  </thead>\n",
       "  <tbody>\n",
       "    <tr>\n",
       "      <th>130</th>\n",
       "      <td>💯</td>\n",
       "      <td>thebiggershort</td>\n",
       "      <td>1626724874</td>\n",
       "      <td>Drizzy</td>\n",
       "      <td>[]</td>\n",
       "      <td></td>\n",
       "    </tr>\n",
       "    <tr>\n",
       "      <th>450</th>\n",
       "      <td>🗣💯</td>\n",
       "      <td>studyingdeath</td>\n",
       "      <td>1626692782</td>\n",
       "      <td>Drizzy</td>\n",
       "      <td>[]</td>\n",
       "      <td></td>\n",
       "    </tr>\n",
       "    <tr>\n",
       "      <th>480</th>\n",
       "      <td>🤝</td>\n",
       "      <td>trapavellited2</td>\n",
       "      <td>1626682698</td>\n",
       "      <td>Drizzy</td>\n",
       "      <td>[]</td>\n",
       "      <td></td>\n",
       "    </tr>\n",
       "    <tr>\n",
       "      <th>661</th>\n",
       "      <td>😳😁😕</td>\n",
       "      <td>canadav2</td>\n",
       "      <td>1626663811</td>\n",
       "      <td>Drizzy</td>\n",
       "      <td>[]</td>\n",
       "      <td></td>\n",
       "    </tr>\n",
       "    <tr>\n",
       "      <th>665</th>\n",
       "      <td>🤢</td>\n",
       "      <td>poorlyparkedcars</td>\n",
       "      <td>1626663749</td>\n",
       "      <td>Drizzy</td>\n",
       "      <td>[]</td>\n",
       "      <td></td>\n",
       "    </tr>\n",
       "  </tbody>\n",
       "</table>\n",
       "</div>"
      ],
      "text/plain": [
       "    body            author  created_utc subreddit tokens lemmas\n",
       "130    💯    thebiggershort   1626724874    Drizzy     []       \n",
       "450   🗣💯     studyingdeath   1626692782    Drizzy     []       \n",
       "480    🤝    trapavellited2   1626682698    Drizzy     []       \n",
       "661  😳😁😕          canadav2   1626663811    Drizzy     []       \n",
       "665    🤢  poorlyparkedcars   1626663749    Drizzy     []       "
      ]
     },
     "execution_count": 20,
     "metadata": {},
     "output_type": "execute_result"
    }
   ],
   "source": [
    "#need to remove non-text lemmas\n",
    "df[df['lemmas'] == ''].head()"
   ]
  },
  {
   "cell_type": "code",
   "execution_count": 21,
   "metadata": {},
   "outputs": [],
   "source": [
    "bad_lemmas = df['lemmas'].value_counts()[:10].index.to_list()"
   ]
  },
  {
   "cell_type": "code",
   "execution_count": 22,
   "metadata": {},
   "outputs": [],
   "source": [
    "#removing all lemmas that are either emojis or stop words\n",
    "df = df[df['lemmas'].isin(bad_lemmas) == False]"
   ]
  },
  {
   "cell_type": "code",
   "execution_count": 23,
   "metadata": {},
   "outputs": [],
   "source": [
    "#function to check whether or not lemmas have numbers in them, returns list of lemmas without numbers\n",
    "def num_check(tokens):\n",
    "    non_alnum = []\n",
    "    alnum = []\n",
    "    for token in tokens:\n",
    "        for char in str(token):\n",
    "            if str(char) in '1234567890':\n",
    "                alnum.append(token)\n",
    "    for token in tokens:\n",
    "        if token not in alnum:\n",
    "            non_alnum.append(token)\n",
    "    return non_alnum"
   ]
  },
  {
   "cell_type": "code",
   "execution_count": 24,
   "metadata": {},
   "outputs": [],
   "source": [
    "df['tokens'] = df['tokens'].apply(num_check)"
   ]
  },
  {
   "cell_type": "code",
   "execution_count": 25,
   "metadata": {},
   "outputs": [],
   "source": [
    "#function to check if there are any words that contain more than three consecutive letters, returns only words\n",
    "#without three consecutive letters\n",
    "def check_non_words(tokens):\n",
    "    real_words = []\n",
    "    for token in tokens:\n",
    "        count = 0\n",
    "        previous_char = 0\n",
    "        for char in token:\n",
    "            if char == previous_char:\n",
    "                count += 1\n",
    "            previous_char = char\n",
    "        if count <= 2:\n",
    "            real_words.append(token)\n",
    "    return real_words"
   ]
  },
  {
   "cell_type": "code",
   "execution_count": 26,
   "metadata": {},
   "outputs": [
    {
     "data": {
      "text/plain": [
       "['hello']"
      ]
     },
     "execution_count": 26,
     "metadata": {},
     "output_type": "execute_result"
    }
   ],
   "source": [
    "#test\n",
    "check_non_words(['hello','hellllllo'])"
   ]
  },
  {
   "cell_type": "code",
   "execution_count": 27,
   "metadata": {},
   "outputs": [],
   "source": [
    "#applying function to remove words with improper spelling\n",
    "df['tokens'] = df['tokens'].apply(check_non_words)"
   ]
  },
  {
   "cell_type": "code",
   "execution_count": 28,
   "metadata": {},
   "outputs": [
    {
     "data": {
      "text/html": [
       "<div>\n",
       "<style scoped>\n",
       "    .dataframe tbody tr th:only-of-type {\n",
       "        vertical-align: middle;\n",
       "    }\n",
       "\n",
       "    .dataframe tbody tr th {\n",
       "        vertical-align: top;\n",
       "    }\n",
       "\n",
       "    .dataframe thead th {\n",
       "        text-align: right;\n",
       "    }\n",
       "</style>\n",
       "<table border=\"1\" class=\"dataframe\">\n",
       "  <thead>\n",
       "    <tr style=\"text-align: right;\">\n",
       "      <th></th>\n",
       "      <th>body</th>\n",
       "      <th>author</th>\n",
       "      <th>created_utc</th>\n",
       "      <th>subreddit</th>\n",
       "      <th>tokens</th>\n",
       "      <th>lemmas</th>\n",
       "    </tr>\n",
       "  </thead>\n",
       "  <tbody>\n",
       "    <tr>\n",
       "      <th>0</th>\n",
       "      <td>Lil Baby LOVES this line lmao</td>\n",
       "      <td>rmoler65</td>\n",
       "      <td>1626734500</td>\n",
       "      <td>Drizzy</td>\n",
       "      <td>[lil, baby, loves, this, line, lmao]</td>\n",
       "      <td>lil, baby, love, this, line, lmao</td>\n",
       "    </tr>\n",
       "    <tr>\n",
       "      <th>1</th>\n",
       "      <td>I'm not as huge a fan of KSG as some of you, b...</td>\n",
       "      <td>WhenItsHalfPastFive</td>\n",
       "      <td>1626734296</td>\n",
       "      <td>Drizzy</td>\n",
       "      <td>[i, m, not, as, huge, a, fan, of, ksg, as, som...</td>\n",
       "      <td>i, m, not, a, huge, a, fan, of, ksg, a, some, ...</td>\n",
       "    </tr>\n",
       "    <tr>\n",
       "      <th>2</th>\n",
       "      <td>Important to note also drizz and Justin were n...</td>\n",
       "      <td>therorax12</td>\n",
       "      <td>1626734151</td>\n",
       "      <td>Drizzy</td>\n",
       "      <td>[important, to, note, also, drizz, and, justin...</td>\n",
       "      <td>important, to, note, also, drizz, and, justin,...</td>\n",
       "    </tr>\n",
       "    <tr>\n",
       "      <th>3</th>\n",
       "      <td>Donde Don Ye</td>\n",
       "      <td>roywoodsir</td>\n",
       "      <td>1626734135</td>\n",
       "      <td>Drizzy</td>\n",
       "      <td>[donde, don, ye]</td>\n",
       "      <td>donde, don, ye</td>\n",
       "    </tr>\n",
       "    <tr>\n",
       "      <th>4</th>\n",
       "      <td>Maybe ye will have a song with drake titled re...</td>\n",
       "      <td>roywoodsir</td>\n",
       "      <td>1626734112</td>\n",
       "      <td>Drizzy</td>\n",
       "      <td>[maybe, ye, will, have, a, song, with, drake, ...</td>\n",
       "      <td>maybe, ye, will, have, a, song, with, drake, t...</td>\n",
       "    </tr>\n",
       "  </tbody>\n",
       "</table>\n",
       "</div>"
      ],
      "text/plain": [
       "                                                body               author  \\\n",
       "0                      Lil Baby LOVES this line lmao             rmoler65   \n",
       "1  I'm not as huge a fan of KSG as some of you, b...  WhenItsHalfPastFive   \n",
       "2  Important to note also drizz and Justin were n...           therorax12   \n",
       "3                                       Donde Don Ye           roywoodsir   \n",
       "4  Maybe ye will have a song with drake titled re...           roywoodsir   \n",
       "\n",
       "   created_utc subreddit                                             tokens  \\\n",
       "0   1626734500    Drizzy               [lil, baby, loves, this, line, lmao]   \n",
       "1   1626734296    Drizzy  [i, m, not, as, huge, a, fan, of, ksg, as, som...   \n",
       "2   1626734151    Drizzy  [important, to, note, also, drizz, and, justin...   \n",
       "3   1626734135    Drizzy                                   [donde, don, ye]   \n",
       "4   1626734112    Drizzy  [maybe, ye, will, have, a, song, with, drake, ...   \n",
       "\n",
       "                                              lemmas  \n",
       "0                  lil, baby, love, this, line, lmao  \n",
       "1  i, m, not, a, huge, a, fan, of, ksg, a, some, ...  \n",
       "2  important, to, note, also, drizz, and, justin,...  \n",
       "3                                     donde, don, ye  \n",
       "4  maybe, ye, will, have, a, song, with, drake, t...  "
      ]
     },
     "execution_count": 28,
     "metadata": {},
     "output_type": "execute_result"
    }
   ],
   "source": [
    "df.head()"
   ]
  },
  {
   "cell_type": "code",
   "execution_count": 29,
   "metadata": {},
   "outputs": [],
   "source": [
    "#updating the lemmas with updated tokens\n",
    "df['lemmas'] = df['tokens'].apply(lemmas)"
   ]
  },
  {
   "cell_type": "code",
   "execution_count": 30,
   "metadata": {},
   "outputs": [],
   "source": [
    "#changing value of subreddit column for classification\n",
    "df['subreddit'] = df['subreddit'].map({'Drizzy':1,'Kanye':0})"
   ]
  },
  {
   "cell_type": "code",
   "execution_count": 31,
   "metadata": {},
   "outputs": [],
   "source": [
    "df.reset_index(drop=True,inplace=True)"
   ]
  },
  {
   "cell_type": "markdown",
   "metadata": {},
   "source": [
    "#### Baseline Score:"
   ]
  },
  {
   "cell_type": "code",
   "execution_count": 32,
   "metadata": {},
   "outputs": [
    {
     "data": {
      "text/plain": [
       "0    0.512061\n",
       "1    0.487939\n",
       "Name: subreddit, dtype: float64"
      ]
     },
     "execution_count": 32,
     "metadata": {},
     "output_type": "execute_result"
    }
   ],
   "source": [
    "#baseline score for model comparison is 51%\n",
    "df['subreddit'].value_counts(normalize=True)"
   ]
  },
  {
   "cell_type": "markdown",
   "metadata": {},
   "source": [
    "## Modeling\n",
    "### Sections:\n",
    "1. [Count Vectorizer Models](#Using-CountVectorizer)\n",
    "2. [Tfidf Vectorizer Models](#Using-TfidfVectorizer)\n",
    "\n",
    "[Back to top](#Sections)"
   ]
  },
  {
   "cell_type": "code",
   "execution_count": 41,
   "metadata": {},
   "outputs": [],
   "source": [
    "#setting up variables for models\n",
    "X = df['lemmas']\n",
    "y = df['subreddit']\n",
    "\n",
    "X_train, X_test, y_train, y_test = train_test_split(X,y,stratify=y)"
   ]
  },
  {
   "cell_type": "markdown",
   "metadata": {},
   "source": [
    "## Using CountVectorizer\n",
    "1. [Random Forest](#Random-Forest-Model-(Cvec))\n",
    "2. [SVC](#SVC-Model-(Cvec))\n",
    "3. [AdaBoost](#AdaBoost-(Cvec))\n",
    "4. [Naive Bayes](#Naive-Bayes-(Cvec))"
   ]
  },
  {
   "cell_type": "markdown",
   "metadata": {},
   "source": [
    "### Random Forest Model (Cvec)"
   ]
  },
  {
   "cell_type": "markdown",
   "metadata": {},
   "source": [
    "#### Test 1:"
   ]
  },
  {
   "cell_type": "code",
   "execution_count": 219,
   "metadata": {},
   "outputs": [],
   "source": [
    "#creating pipeline for cvec, rf test\n",
    "pipe = Pipeline([\n",
    "    ('cvec',CountVectorizer(stop_words=stopwords.words('english'),max_features=3000)),\n",
    "    ('rf',RandomForestClassifier())\n",
    "])"
   ]
  },
  {
   "cell_type": "code",
   "execution_count": 220,
   "metadata": {},
   "outputs": [
    {
     "data": {
      "text/plain": [
       "Pipeline(steps=[('cvec',\n",
       "                 CountVectorizer(max_features=3000,\n",
       "                                 stop_words=['i', 'me', 'my', 'myself', 'we',\n",
       "                                             'our', 'ours', 'ourselves', 'you',\n",
       "                                             \"you're\", \"you've\", \"you'll\",\n",
       "                                             \"you'd\", 'your', 'yours',\n",
       "                                             'yourself', 'yourselves', 'he',\n",
       "                                             'him', 'his', 'himself', 'she',\n",
       "                                             \"she's\", 'her', 'hers', 'herself',\n",
       "                                             'it', \"it's\", 'its', 'itself', ...])),\n",
       "                ('rf', RandomForestClassifier())])"
      ]
     },
     "execution_count": 220,
     "metadata": {},
     "output_type": "execute_result"
    }
   ],
   "source": [
    "#fitting model\n",
    "pipe.fit(X_train,y_train)"
   ]
  },
  {
   "cell_type": "code",
   "execution_count": 221,
   "metadata": {},
   "outputs": [
    {
     "data": {
      "text/plain": [
       "0.7178605708229362"
      ]
     },
     "execution_count": 221,
     "metadata": {},
     "output_type": "execute_result"
    }
   ],
   "source": [
    "#cv score for train data\n",
    "cross_val_score(pipe,X_train,y_train,cv=5).mean()"
   ]
  },
  {
   "cell_type": "code",
   "execution_count": 222,
   "metadata": {},
   "outputs": [
    {
     "data": {
      "text/plain": [
       "0.6954589855277759"
      ]
     },
     "execution_count": 222,
     "metadata": {},
     "output_type": "execute_result"
    }
   ],
   "source": [
    "#cv score for test data\n",
    "cross_val_score(pipe,X_test,y_test,cv=5).mean()"
   ]
  },
  {
   "cell_type": "markdown",
   "metadata": {},
   "source": [
    "#### Test 2 (RandomSearch)"
   ]
  },
  {
   "cell_type": "code",
   "execution_count": 49,
   "metadata": {
    "scrolled": true
   },
   "outputs": [
    {
     "data": {
      "text/plain": [
       "RandomizedSearchCV(cv=5,\n",
       "                   estimator=Pipeline(steps=[('cvec',\n",
       "                                              CountVectorizer(max_features=3000,\n",
       "                                                              stop_words=['i',\n",
       "                                                                          'me',\n",
       "                                                                          'my',\n",
       "                                                                          'myself',\n",
       "                                                                          'we',\n",
       "                                                                          'our',\n",
       "                                                                          'ours',\n",
       "                                                                          'ourselves',\n",
       "                                                                          'you',\n",
       "                                                                          \"you're\",\n",
       "                                                                          \"you've\",\n",
       "                                                                          \"you'll\",\n",
       "                                                                          \"you'd\",\n",
       "                                                                          'your',\n",
       "                                                                          'yours',\n",
       "                                                                          'yourself',\n",
       "                                                                          'yourselves',\n",
       "                                                                          'he',\n",
       "                                                                          'him',\n",
       "                                                                          'his',\n",
       "                                                                          'himself',\n",
       "                                                                          'she',\n",
       "                                                                          \"she's\",\n",
       "                                                                          'her',\n",
       "                                                                          'hers',\n",
       "                                                                          'herself',\n",
       "                                                                          'it',\n",
       "                                                                          \"it's\",\n",
       "                                                                          'its',\n",
       "                                                                          'itself', ...])),\n",
       "                                             ('rf', RandomForestClassifier())]),\n",
       "                   param_distributions={'rf__max_depth': [None, 1, 2, 3, 4, 5],\n",
       "                                        'rf__n_estimators': [100, 150, 200]})"
      ]
     },
     "execution_count": 49,
     "metadata": {},
     "output_type": "execute_result"
    }
   ],
   "source": [
    "#creating pipe and hyperparam dict for random search of rf model\n",
    "pipe2 = Pipeline([\n",
    "    ('cvec',CountVectorizer(stop_words=stopwords.words('english'),max_features=3000)),\n",
    "    ('rf',RandomForestClassifier())\n",
    "])\n",
    "\n",
    "params = {\n",
    "    'rf__n_estimators':[100,150,200],\n",
    "    'rf__max_depth':[None,1,2,3,4,5]\n",
    "}\n",
    "rs = RandomizedSearchCV(pipe2,param_distributions=params,cv=5)\n",
    "rs.fit(X_train,y_train)"
   ]
  },
  {
   "cell_type": "code",
   "execution_count": 50,
   "metadata": {},
   "outputs": [
    {
     "data": {
      "text/plain": [
       "0.7215629135816632"
      ]
     },
     "execution_count": 50,
     "metadata": {},
     "output_type": "execute_result"
    }
   ],
   "source": [
    "#best score from random search\n",
    "rs.best_score_"
   ]
  },
  {
   "cell_type": "code",
   "execution_count": 51,
   "metadata": {},
   "outputs": [
    {
     "data": {
      "text/plain": [
       "{'rf__n_estimators': 200, 'rf__max_depth': None}"
      ]
     },
     "execution_count": 51,
     "metadata": {},
     "output_type": "execute_result"
    }
   ],
   "source": [
    "#best hyperparams from the random search\n",
    "rs.best_params_"
   ]
  },
  {
   "cell_type": "markdown",
   "metadata": {},
   "source": [
    "#### Test 3:"
   ]
  },
  {
   "cell_type": "code",
   "execution_count": 45,
   "metadata": {},
   "outputs": [],
   "source": [
    "X = df['lemmas']\n",
    "y = df['subreddit']\n",
    "\n",
    "X_train, X_test, y_train, y_test = train_test_split(X,y,stratify=y)"
   ]
  },
  {
   "cell_type": "code",
   "execution_count": 46,
   "metadata": {},
   "outputs": [
    {
     "data": {
      "text/plain": [
       "Pipeline(steps=[('cvec',\n",
       "                 CountVectorizer(max_features=1000,\n",
       "                                 stop_words=['i', 'me', 'my', 'myself', 'we',\n",
       "                                             'our', 'ours', 'ourselves', 'you',\n",
       "                                             \"you're\", \"you've\", \"you'll\",\n",
       "                                             \"you'd\", 'your', 'yours',\n",
       "                                             'yourself', 'yourselves', 'he',\n",
       "                                             'him', 'his', 'himself', 'she',\n",
       "                                             \"she's\", 'her', 'hers', 'herself',\n",
       "                                             'it', \"it's\", 'its', 'itself', ...])),\n",
       "                ('rf', RandomForestClassifier(n_estimators=200))])"
      ]
     },
     "execution_count": 46,
     "metadata": {},
     "output_type": "execute_result"
    }
   ],
   "source": [
    "#creating model with best hyperparams and a lower max_feature value\n",
    "simple_pipe2 = Pipeline([\n",
    "    ('cvec',CountVectorizer(stop_words=stopwords.words('english'),max_features=1000)),\n",
    "    ('rf',RandomForestClassifier(max_depth=None, n_estimators=200))\n",
    "])\n",
    "simple_pipe2.fit(X_train,y_train)"
   ]
  },
  {
   "cell_type": "code",
   "execution_count": 47,
   "metadata": {},
   "outputs": [
    {
     "data": {
      "text/plain": [
       "0.7035468708812559"
      ]
     },
     "execution_count": 47,
     "metadata": {},
     "output_type": "execute_result"
    }
   ],
   "source": [
    "#cv for train data\n",
    "cross_val_score(simple_pipe2,X_train,y_train,cv=5).mean()"
   ]
  },
  {
   "cell_type": "code",
   "execution_count": 48,
   "metadata": {},
   "outputs": [
    {
     "data": {
      "text/plain": [
       "0.6849477359114196"
      ]
     },
     "execution_count": 48,
     "metadata": {},
     "output_type": "execute_result"
    }
   ],
   "source": [
    "#cv for test data\n",
    "cross_val_score(simple_pipe2,X_test,y_test,cv=5).mean()"
   ]
  },
  {
   "cell_type": "markdown",
   "metadata": {},
   "source": [
    "### SVC Model (Cvec)\n",
    "[cvec](#Using-CountVectorizer)"
   ]
  },
  {
   "cell_type": "markdown",
   "metadata": {},
   "source": [
    "#### Test 1:"
   ]
  },
  {
   "cell_type": "code",
   "execution_count": 52,
   "metadata": {},
   "outputs": [
    {
     "data": {
      "text/plain": [
       "Pipeline(steps=[('cvec',\n",
       "                 CountVectorizer(max_features=1000,\n",
       "                                 stop_words=['i', 'me', 'my', 'myself', 'we',\n",
       "                                             'our', 'ours', 'ourselves', 'you',\n",
       "                                             \"you're\", \"you've\", \"you'll\",\n",
       "                                             \"you'd\", 'your', 'yours',\n",
       "                                             'yourself', 'yourselves', 'he',\n",
       "                                             'him', 'his', 'himself', 'she',\n",
       "                                             \"she's\", 'her', 'hers', 'herself',\n",
       "                                             'it', \"it's\", 'its', 'itself', ...])),\n",
       "                ('svc', SVC())])"
      ]
     },
     "execution_count": 52,
     "metadata": {},
     "output_type": "execute_result"
    }
   ],
   "source": [
    "#pipeline for svc model with cvec, using only max_features of 1000 hyperparam from last iterations\n",
    "pipe_1_svc = Pipeline([\n",
    "    ('cvec',CountVectorizer(stop_words=stopwords.words('english'),max_features=1000)),\n",
    "    ('svc',SVC())\n",
    "])\n",
    "pipe_1_svc.fit(X_train,y_train)"
   ]
  },
  {
   "cell_type": "code",
   "execution_count": 53,
   "metadata": {},
   "outputs": [
    {
     "data": {
      "text/plain": [
       "0.7013321642075417"
      ]
     },
     "execution_count": 53,
     "metadata": {},
     "output_type": "execute_result"
    }
   ],
   "source": [
    "#cv score for train data\n",
    "cross_val_score(pipe_1_svc,X_train,y_train,cv=5).mean()"
   ]
  },
  {
   "cell_type": "code",
   "execution_count": 54,
   "metadata": {},
   "outputs": [
    {
     "data": {
      "text/plain": [
       "0.6791950956551849"
      ]
     },
     "execution_count": 54,
     "metadata": {},
     "output_type": "execute_result"
    }
   ],
   "source": [
    "#cv score for test data\n",
    "cross_val_score(pipe_1_svc,X_test,y_test,cv=5).mean()"
   ]
  },
  {
   "cell_type": "markdown",
   "metadata": {},
   "source": [
    "#### Test 2:"
   ]
  },
  {
   "cell_type": "code",
   "execution_count": 55,
   "metadata": {},
   "outputs": [
    {
     "data": {
      "text/plain": [
       "Pipeline(steps=[('cvec',\n",
       "                 CountVectorizer(max_features=500,\n",
       "                                 stop_words=['i', 'me', 'my', 'myself', 'we',\n",
       "                                             'our', 'ours', 'ourselves', 'you',\n",
       "                                             \"you're\", \"you've\", \"you'll\",\n",
       "                                             \"you'd\", 'your', 'yours',\n",
       "                                             'yourself', 'yourselves', 'he',\n",
       "                                             'him', 'his', 'himself', 'she',\n",
       "                                             \"she's\", 'her', 'hers', 'herself',\n",
       "                                             'it', \"it's\", 'its', 'itself', ...])),\n",
       "                ('svc', SVC(C=10, kernel='poly'))])"
      ]
     },
     "execution_count": 55,
     "metadata": {},
     "output_type": "execute_result"
    }
   ],
   "source": [
    "#pipeline with different hyperparams\n",
    "pipe_2_svc = Pipeline([\n",
    "    ('cvec',CountVectorizer(stop_words=stopwords.words('english'),max_features=500)),\n",
    "    ('svc',SVC(C=10,kernel='poly'))\n",
    "])\n",
    "pipe_2_svc.fit(X_train,y_train)"
   ]
  },
  {
   "cell_type": "code",
   "execution_count": 57,
   "metadata": {},
   "outputs": [
    {
     "data": {
      "text/plain": [
       "0.6532344875718923"
      ]
     },
     "execution_count": 57,
     "metadata": {},
     "output_type": "execute_result"
    }
   ],
   "source": [
    "#cv score for train data\n",
    "cross_val_score(pipe_2_svc,X_train,y_train,cv=5).mean()"
   ]
  },
  {
   "cell_type": "code",
   "execution_count": 58,
   "metadata": {},
   "outputs": [
    {
     "data": {
      "text/plain": [
       "0.635068239409464"
      ]
     },
     "execution_count": 58,
     "metadata": {},
     "output_type": "execute_result"
    }
   ],
   "source": [
    "#cv score for test data\n",
    "cross_val_score(pipe_2_svc,X_test,y_test,cv=5).mean()"
   ]
  },
  {
   "cell_type": "markdown",
   "metadata": {},
   "source": [
    "### AdaBoost (Cvec)\n",
    "[cvec](#Using-CountVectorizer)"
   ]
  },
  {
   "cell_type": "code",
   "execution_count": 59,
   "metadata": {},
   "outputs": [
    {
     "data": {
      "text/plain": [
       "Pipeline(steps=[('cvec',\n",
       "                 CountVectorizer(max_features=1000,\n",
       "                                 stop_words=['i', 'me', 'my', 'myself', 'we',\n",
       "                                             'our', 'ours', 'ourselves', 'you',\n",
       "                                             \"you're\", \"you've\", \"you'll\",\n",
       "                                             \"you'd\", 'your', 'yours',\n",
       "                                             'yourself', 'yourselves', 'he',\n",
       "                                             'him', 'his', 'himself', 'she',\n",
       "                                             \"she's\", 'her', 'hers', 'herself',\n",
       "                                             'it', \"it's\", 'its', 'itself', ...])),\n",
       "                ('ada', AdaBoostClassifier())])"
      ]
     },
     "execution_count": 59,
     "metadata": {},
     "output_type": "execute_result"
    }
   ],
   "source": [
    "#pipeline for AdaBoost model with minimal hyperparams\n",
    "pipe_boost = Pipeline([\n",
    "    ('cvec',CountVectorizer(stop_words=stopwords.words('english'),max_features=1000)),\n",
    "    ('ada',AdaBoostClassifier())\n",
    "])\n",
    "pipe_boost.fit(X_train,y_train)"
   ]
  },
  {
   "cell_type": "code",
   "execution_count": 60,
   "metadata": {},
   "outputs": [
    {
     "data": {
      "text/plain": [
       "0.6532676820032479"
      ]
     },
     "execution_count": 60,
     "metadata": {},
     "output_type": "execute_result"
    }
   ],
   "source": [
    "#cv score for tain data\n",
    "cross_val_score(pipe_boost,X_train,y_train,cv=5).mean()"
   ]
  },
  {
   "cell_type": "code",
   "execution_count": 61,
   "metadata": {},
   "outputs": [
    {
     "data": {
      "text/plain": [
       "0.6469663613255582"
      ]
     },
     "execution_count": 61,
     "metadata": {},
     "output_type": "execute_result"
    }
   ],
   "source": [
    "#cv score for test data\n",
    "cross_val_score(pipe_boost,X_test,y_test,cv=5).mean()"
   ]
  },
  {
   "cell_type": "markdown",
   "metadata": {},
   "source": [
    "### Naive Bayes (Cvec)\n",
    "[cvec](#Using-CountVectorizer)"
   ]
  },
  {
   "cell_type": "code",
   "execution_count": 62,
   "metadata": {},
   "outputs": [
    {
     "data": {
      "text/plain": [
       "Pipeline(steps=[('cvec',\n",
       "                 CountVectorizer(max_features=1000,\n",
       "                                 stop_words=['i', 'me', 'my', 'myself', 'we',\n",
       "                                             'our', 'ours', 'ourselves', 'you',\n",
       "                                             \"you're\", \"you've\", \"you'll\",\n",
       "                                             \"you'd\", 'your', 'yours',\n",
       "                                             'yourself', 'yourselves', 'he',\n",
       "                                             'him', 'his', 'himself', 'she',\n",
       "                                             \"she's\", 'her', 'hers', 'herself',\n",
       "                                             'it', \"it's\", 'its', 'itself', ...])),\n",
       "                ('nb', MultinomialNB())])"
      ]
     },
     "execution_count": 62,
     "metadata": {},
     "output_type": "execute_result"
    }
   ],
   "source": [
    "#pipeline for naive bayes with minimal hyperparams\n",
    "nb_pipe = Pipeline([\n",
    "    ('cvec',CountVectorizer(stop_words=stopwords.words('english'),max_features=1000)),\n",
    "    ('nb',MultinomialNB())\n",
    "])\n",
    "nb_pipe.fit(X_train,y_train)"
   ]
  },
  {
   "cell_type": "code",
   "execution_count": 63,
   "metadata": {},
   "outputs": [
    {
     "data": {
      "text/plain": [
       "0.7045388413362452"
      ]
     },
     "execution_count": 63,
     "metadata": {},
     "output_type": "execute_result"
    }
   ],
   "source": [
    "#cv score for train data\n",
    "cross_val_score(nb_pipe,X_train,y_train,cv=5).mean()"
   ]
  },
  {
   "cell_type": "code",
   "execution_count": 64,
   "metadata": {},
   "outputs": [
    {
     "data": {
      "text/plain": [
       "0.7002184802197198"
      ]
     },
     "execution_count": 64,
     "metadata": {},
     "output_type": "execute_result"
    }
   ],
   "source": [
    "#cv score for test data\n",
    "cross_val_score(nb_pipe,X_test,y_test,cv=5).mean()"
   ]
  },
  {
   "cell_type": "code",
   "execution_count": 65,
   "metadata": {},
   "outputs": [
    {
     "data": {
      "text/plain": [
       "Pipeline(steps=[('cvec',\n",
       "                 CountVectorizer(max_df=0.8, max_features=1000, min_df=10,\n",
       "                                 stop_words=['i', 'me', 'my', 'myself', 'we',\n",
       "                                             'our', 'ours', 'ourselves', 'you',\n",
       "                                             \"you're\", \"you've\", \"you'll\",\n",
       "                                             \"you'd\", 'your', 'yours',\n",
       "                                             'yourself', 'yourselves', 'he',\n",
       "                                             'him', 'his', 'himself', 'she',\n",
       "                                             \"she's\", 'her', 'hers', 'herself',\n",
       "                                             'it', \"it's\", 'its', 'itself', ...])),\n",
       "                ('nb', MultinomialNB())])"
      ]
     },
     "execution_count": 65,
     "metadata": {},
     "output_type": "execute_result"
    }
   ],
   "source": [
    "#pipeline for nb with more cvec hyperparams\n",
    "nb_pipe2 = Pipeline([\n",
    "    ('cvec',CountVectorizer(stop_words=stopwords.words('english'),\n",
    "                            max_features=1000,\n",
    "                            max_df=0.8,\n",
    "                            min_df=10)),\n",
    "    ('nb',MultinomialNB())\n",
    "])\n",
    "nb_pipe2.fit(X_train,y_train)"
   ]
  },
  {
   "cell_type": "code",
   "execution_count": 66,
   "metadata": {},
   "outputs": [
    {
     "data": {
      "text/plain": [
       "0.7047041142028296"
      ]
     },
     "execution_count": 66,
     "metadata": {},
     "output_type": "execute_result"
    }
   ],
   "source": [
    "#cv score for train data\n",
    "cross_val_score(nb_pipe2,X_train,y_train,cv=5).mean()"
   ]
  },
  {
   "cell_type": "code",
   "execution_count": 67,
   "metadata": {},
   "outputs": [
    {
     "data": {
      "text/plain": [
       "0.7018048964751988"
      ]
     },
     "execution_count": 67,
     "metadata": {},
     "output_type": "execute_result"
    }
   ],
   "source": [
    "#cv score for test data\n",
    "cross_val_score(nb_pipe2,X_test,y_test,cv=5).mean()"
   ]
  },
  {
   "cell_type": "markdown",
   "metadata": {},
   "source": [
    "#### Viz for Cvec:"
   ]
  },
  {
   "cell_type": "code",
   "execution_count": 89,
   "metadata": {},
   "outputs": [
    {
     "data": {
      "image/png": "[encoded data removed]",
      "text/plain": [
       "<Figure size 432x288 with 1 Axes>"
      ]
     },
     "metadata": {
      "needs_background": "light"
     },
     "output_type": "display_data"
    }
   ],
   "source": [
    "#creating graph for cvec most common words\n",
    "cvec_df.sum().sort_values(ascending=False).head(10).plot(kind='barh')\n",
    "plt.title('Most Common CountVectorizer Words')\n",
    "plt.xlabel('Number of Appearances')\n",
    "plt.ylabel('Lemmas');"
   ]
  },
  {
   "cell_type": "markdown",
   "metadata": {},
   "source": [
    "## Using TfidfVectorizer\n",
    "[Modeling](#Modeling)\n",
    "1. [Random Forest](#Random-Forest-Model-(Tfidf))\n",
    "2. [SVC](#SVC-Model-(Tfidf))\n",
    "3. [AdaBoost](#AdaBoost-Model-(Tfidf))\n",
    "4. [Naive Bayes](#Naive-Bayes-Model-(Tfidf))"
   ]
  },
  {
   "cell_type": "markdown",
   "metadata": {},
   "source": [
    "### Random Forest Model (Tfidf)\n",
    "[Modeling](#Modeling)"
   ]
  },
  {
   "cell_type": "code",
   "execution_count": 68,
   "metadata": {},
   "outputs": [
    {
     "data": {
      "text/plain": [
       "Pipeline(steps=[('tfidf',\n",
       "                 TfidfVectorizer(max_features=2000,\n",
       "                                 stop_words=['i', 'me', 'my', 'myself', 'we',\n",
       "                                             'our', 'ours', 'ourselves', 'you',\n",
       "                                             \"you're\", \"you've\", \"you'll\",\n",
       "                                             \"you'd\", 'your', 'yours',\n",
       "                                             'yourself', 'yourselves', 'he',\n",
       "                                             'him', 'his', 'himself', 'she',\n",
       "                                             \"she's\", 'her', 'hers', 'herself',\n",
       "                                             'it', \"it's\", 'its', 'itself', ...])),\n",
       "                ('rf', RandomForestClassifier())])"
      ]
     },
     "execution_count": 68,
     "metadata": {},
     "output_type": "execute_result"
    }
   ],
   "source": [
    "#pipeline for random forest with tfidf\n",
    "rf_pipe = Pipeline([\n",
    "    ('tfidf',TfidfVectorizer(stop_words=stopwords.words('english'),max_features=2000)),\n",
    "    ('rf',RandomForestClassifier())\n",
    "])\n",
    "rf_pipe.fit(X_train,y_train)"
   ]
  },
  {
   "cell_type": "code",
   "execution_count": 69,
   "metadata": {},
   "outputs": [
    {
     "data": {
      "text/plain": [
       "0.7179269050536009"
      ]
     },
     "execution_count": 69,
     "metadata": {},
     "output_type": "execute_result"
    }
   ],
   "source": [
    "#cv score for train data\n",
    "cross_val_score(rf_pipe,X_train,y_train,cv=5).mean()"
   ]
  },
  {
   "cell_type": "code",
   "execution_count": 70,
   "metadata": {},
   "outputs": [
    {
     "data": {
      "text/plain": [
       "0.6929799088698443"
      ]
     },
     "execution_count": 70,
     "metadata": {},
     "output_type": "execute_result"
    }
   ],
   "source": [
    "#cv score for test data\n",
    "cross_val_score(rf_pipe,X_test,y_test,cv=5).mean()"
   ]
  },
  {
   "cell_type": "markdown",
   "metadata": {},
   "source": [
    "### SVC Model (Tfidf)\n",
    "[Modeling](#Using-TfidfVectorizer)"
   ]
  },
  {
   "cell_type": "code",
   "execution_count": 71,
   "metadata": {},
   "outputs": [
    {
     "data": {
      "text/plain": [
       "Pipeline(steps=[('tfidf',\n",
       "                 TfidfVectorizer(max_features=1000,\n",
       "                                 stop_words=['i', 'me', 'my', 'myself', 'we',\n",
       "                                             'our', 'ours', 'ourselves', 'you',\n",
       "                                             \"you're\", \"you've\", \"you'll\",\n",
       "                                             \"you'd\", 'your', 'yours',\n",
       "                                             'yourself', 'yourselves', 'he',\n",
       "                                             'him', 'his', 'himself', 'she',\n",
       "                                             \"she's\", 'her', 'hers', 'herself',\n",
       "                                             'it', \"it's\", 'its', 'itself', ...])),\n",
       "                ('svc', SVC())])"
      ]
     },
     "execution_count": 71,
     "metadata": {},
     "output_type": "execute_result"
    }
   ],
   "source": [
    "#pipeline for svc model with tfidf preprocessing\n",
    "svc_pipe = Pipeline([\n",
    "    ('tfidf',TfidfVectorizer(stop_words=stopwords.words('english'),max_features=1000)),\n",
    "    ('svc',SVC())\n",
    "])\n",
    "svc_pipe.fit(X_train,y_train)"
   ]
  },
  {
   "cell_type": "code",
   "execution_count": 72,
   "metadata": {},
   "outputs": [
    {
     "data": {
      "text/plain": [
       "0.7128030255227262"
      ]
     },
     "execution_count": 72,
     "metadata": {},
     "output_type": "execute_result"
    }
   ],
   "source": [
    "#cv score for train data\n",
    "cross_val_score(svc_pipe,X_train,y_train,cv=5).mean()"
   ]
  },
  {
   "cell_type": "code",
   "execution_count": 73,
   "metadata": {},
   "outputs": [
    {
     "data": {
      "text/plain": [
       "0.6966482320907208"
      ]
     },
     "execution_count": 73,
     "metadata": {},
     "output_type": "execute_result"
    }
   ],
   "source": [
    "#cv score for test data\n",
    "cross_val_score(svc_pipe,X_test,y_test,cv=5).mean()"
   ]
  },
  {
   "cell_type": "markdown",
   "metadata": {},
   "source": [
    "### AdaBoost Model (Tfidf)\n",
    "[Modeling](#Using-TfidfVectorizer)"
   ]
  },
  {
   "cell_type": "code",
   "execution_count": 74,
   "metadata": {},
   "outputs": [
    {
     "data": {
      "text/plain": [
       "Pipeline(steps=[('tfidf',\n",
       "                 TfidfVectorizer(max_features=1000,\n",
       "                                 stop_words=['i', 'me', 'my', 'myself', 'we',\n",
       "                                             'our', 'ours', 'ourselves', 'you',\n",
       "                                             \"you're\", \"you've\", \"you'll\",\n",
       "                                             \"you'd\", 'your', 'yours',\n",
       "                                             'yourself', 'yourselves', 'he',\n",
       "                                             'him', 'his', 'himself', 'she',\n",
       "                                             \"she's\", 'her', 'hers', 'herself',\n",
       "                                             'it', \"it's\", 'its', 'itself', ...])),\n",
       "                ('ada', AdaBoostClassifier())])"
      ]
     },
     "execution_count": 74,
     "metadata": {},
     "output_type": "execute_result"
    }
   ],
   "source": [
    "#pipeline with minimal hyperparams for AdaBoost model with tfidf preprocessing\n",
    "pipe_boost_tf = Pipeline([\n",
    "    ('tfidf',TfidfVectorizer(stop_words=stopwords.words('english'),max_features=1000)),\n",
    "    ('ada',AdaBoostClassifier())\n",
    "])\n",
    "pipe_boost_tf.fit(X_train,y_train)"
   ]
  },
  {
   "cell_type": "code",
   "execution_count": 75,
   "metadata": {},
   "outputs": [
    {
     "data": {
      "text/plain": [
       "0.651317394433814"
      ]
     },
     "execution_count": 75,
     "metadata": {},
     "output_type": "execute_result"
    }
   ],
   "source": [
    "#cv for train data\n",
    "cross_val_score(pipe_boost_tf,X_train,y_train,cv=5).mean()"
   ]
  },
  {
   "cell_type": "code",
   "execution_count": 76,
   "metadata": {},
   "outputs": [
    {
     "data": {
      "text/plain": [
       "0.651317394433814"
      ]
     },
     "execution_count": 76,
     "metadata": {},
     "output_type": "execute_result"
    }
   ],
   "source": [
    "#cv for test data\n",
    "cross_val_score(pipe_boost_tf,X_train,y_train,cv=5).mean()"
   ]
  },
  {
   "cell_type": "markdown",
   "metadata": {},
   "source": [
    "### Naive Bayes Model (Tfidf)\n",
    "[Modeling](#Using-TfidfVectorizer)"
   ]
  },
  {
   "cell_type": "code",
   "execution_count": 77,
   "metadata": {},
   "outputs": [
    {
     "data": {
      "text/plain": [
       "Pipeline(steps=[('tfidf',\n",
       "                 TfidfVectorizer(max_features=1000,\n",
       "                                 stop_words=['i', 'me', 'my', 'myself', 'we',\n",
       "                                             'our', 'ours', 'ourselves', 'you',\n",
       "                                             \"you're\", \"you've\", \"you'll\",\n",
       "                                             \"you'd\", 'your', 'yours',\n",
       "                                             'yourself', 'yourselves', 'he',\n",
       "                                             'him', 'his', 'himself', 'she',\n",
       "                                             \"she's\", 'her', 'hers', 'herself',\n",
       "                                             'it', \"it's\", 'its', 'itself', ...])),\n",
       "                ('nb', MultinomialNB())])"
      ]
     },
     "execution_count": 77,
     "metadata": {},
     "output_type": "execute_result"
    }
   ],
   "source": [
    "#pipeline for naive bayes model with minimal hyperparams\n",
    "nb_pipe2 = Pipeline([\n",
    "    ('tfidf',TfidfVectorizer(stop_words=stopwords.words('english'),max_features=1000)),\n",
    "    ('nb',MultinomialNB())\n",
    "])\n",
    "nb_pipe2.fit(X_train,y_train)"
   ]
  },
  {
   "cell_type": "code",
   "execution_count": 78,
   "metadata": {},
   "outputs": [
    {
     "data": {
      "text/plain": [
       "0.7023238341862761"
      ]
     },
     "execution_count": 78,
     "metadata": {},
     "output_type": "execute_result"
    }
   ],
   "source": [
    "#cv score for train data\n",
    "cross_val_score(nb_pipe2,X_train,y_train,cv=5).mean()"
   ]
  },
  {
   "cell_type": "code",
   "execution_count": 79,
   "metadata": {},
   "outputs": [
    {
     "data": {
      "text/plain": [
       "0.6971443130218539"
      ]
     },
     "execution_count": 79,
     "metadata": {},
     "output_type": "execute_result"
    }
   ],
   "source": [
    "#cv score for test data\n",
    "cross_val_score(nb_pipe2,X_test,y_test,cv=5).mean()"
   ]
  }
 ],
 "metadata": {
  "kernelspec": {
   "display_name": "Python 3",
   "language": "python",
   "name": "python3"
  },
  "language_info": {
   "codemirror_mode": {
    "name": "ipython",
    "version": 3
   },
   "file_extension": ".py",
   "mimetype": "text/x-python",
   "name": "python",
   "nbconvert_exporter": "python",
   "pygments_lexer": "ipython3",
   "version": "3.7.3"
  }
 },
 "nbformat": 4,
 "nbformat_minor": 2
}
